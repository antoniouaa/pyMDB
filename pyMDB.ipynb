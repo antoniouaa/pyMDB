{
 "cells": [
  {
   "cell_type": "code",
   "execution_count": 1,
   "metadata": {},
   "outputs": [
    {
     "name": "stdout",
     "output_type": "stream",
     "text": [
      "{'API_KEY': '5805b27b'}\n"
     ]
    }
   ],
   "source": [
    "with open(\"API_KEY.txt\") as f:\n",
    "    CREDENTIALS = {\"API_KEY\" : f.readline().strip().split(\"=\")[-1]}\n",
    "\n",
    "print(CREDENTIALS)"
   ]
  },
  {
   "cell_type": "code",
   "execution_count": 2,
   "metadata": {},
   "outputs": [],
   "source": [
    "import requests\n",
    "import json\n",
    "\n",
    "BASE_URL = f\"http://www.omdbapi.com/?apikey={CREDENTIALS['API_KEY']}&\"\n",
    "\n",
    "def fetch(query):\n",
    "    COMPOSITE_URL = f\"{BASE_URL}{query}\"\n",
    "    with requests.get(COMPOSITE_URL) as r:\n",
    "        if r.status_code < 400:\n",
    "            film_dict = json.loads(r.content)\n",
    "            return film_dict"
   ]
  },
  {
   "cell_type": "code",
   "execution_count": 3,
   "metadata": {},
   "outputs": [],
   "source": [
    "def prune(film):\n",
    "    rel_dict = {}\n",
    "\n",
    "    relevant_fields = [\"Title\", \"Runtime\", \"Genre\", \"Director\", \"Ratings\", \"imdbRating\", \"BoxOffice\"]\n",
    "    scores = [\"imdbRating\", \"Internet Movie Database\", \"Rotten Tomatoes\", \"Metacritic\"]\n",
    "    \n",
    "    if not film:\n",
    "        return None\n",
    "\n",
    "    for key_ in relevant_fields:\n",
    "        if key_ in film.keys():\n",
    "            rel_dict[key_] = film[key_]\n",
    "\n",
    "    try:\n",
    "        rel_dict[\"Genre\"] = rel_dict[\"Genre\"].split(\", \")\n",
    "        rel_dict[\"Director\"] = rel_dict[\"Director\"].split(\", \")\n",
    "    except:\n",
    "        pass\n",
    "    \n",
    "    sources = {}\n",
    "    try:\n",
    "        sources = {d[\"Source\"] : d[\"Value\"] for d in rel_dict[\"Ratings\"]}\n",
    "    except:\n",
    "        pass\n",
    "    \n",
    "    for k, v in sources.items():\n",
    "        rel_dict[k] = v\n",
    "\n",
    "    for score in scores:\n",
    "        split_char = \"/\"\n",
    "        if score == \"Rotten Tomatoes\":\n",
    "            split_char = \"%\"\n",
    "        value = None\n",
    "        try:\n",
    "            value = float(rel_dict[score].split(split_char)[0]) or None\n",
    "        except:\n",
    "            pass\n",
    "        finally:\n",
    "            rel_dict[score] = value\n",
    "            value = None\n",
    "        \n",
    "    rel_dict.pop(\"Ratings\", None)\n",
    "    return rel_dict"
   ]
  },
  {
   "cell_type": "code",
   "execution_count": 4,
   "metadata": {},
   "outputs": [],
   "source": [
    "FILENAME = \"data.json\"\n",
    "\n",
    "def write_to_file(FILENAME, rel_dict):\n",
    "    json_string = json.dumps(rel_dict, separators=(\",\",\":\"))\n",
    "    with open(FILENAME, \"a\") as infile:\n",
    "        infile.write(json_string+\"\\n\")"
   ]
  },
  {
   "cell_type": "code",
   "execution_count": 5,
   "metadata": {},
   "outputs": [],
   "source": [
    "from random import randint\n",
    "\n",
    "def batch_fetch():\n",
    "    for i in range(100):\n",
    "        id_ = f\"{randint(1, 1877830)}\"\n",
    "        film = fetch(f\"i=tt{str(id_).zfill(7)}\")\n",
    "        if film:\n",
    "            rel_film = prune(film)\n",
    "            write_to_file(FILENAME, rel_film)"
   ]
  },
  {
   "cell_type": "code",
   "execution_count": 6,
   "metadata": {
    "scrolled": true
   },
   "outputs": [
    {
     "name": "stdout",
     "output_type": "stream",
     "text": [
      "100 links fetched!\n",
      "200 links fetched!\n",
      "300 links fetched!\n",
      "400 links fetched!\n",
      "500 links fetched!\n",
      "Batch Job Done!\n"
     ]
    }
   ],
   "source": [
    "for i in range(5):\n",
    "    batch_fetch()\n",
    "    print(f\"{(i+1)*100} links fetched!\")\n",
    "print(\"Batch Job Done!\")"
   ]
  },
  {
   "cell_type": "code",
   "execution_count": 10,
   "metadata": {},
   "outputs": [],
   "source": [
    "import pandas as pd\n",
    "df = pd.read_json(\"data.json\", lines=True)\n",
    "\n",
    "df.dropna(subset=[\"Title\"], inplace=True)\n",
    "df.dropna(subset=['imdbRating', 'Internet Movie Database', 'Rotten Tomatoes', 'Metacritic'], how=\"all\", inplace=True)\n",
    "df.reset_index(drop=True, inplace=True)"
   ]
  },
  {
   "cell_type": "code",
   "execution_count": 11,
   "metadata": {},
   "outputs": [
    {
     "name": "stdout",
     "output_type": "stream",
     "text": [
      "STDDEV = 1.4066257661182244\n",
      "MEAN = 6.644797687861272\n"
     ]
    }
   ],
   "source": [
    "print(f\"STDDEV = {df['imdbRating'].std()}\\nMEAN = {df['imdbRating'].mean()}\")"
   ]
  },
  {
   "cell_type": "code",
   "execution_count": 14,
   "metadata": {},
   "outputs": [],
   "source": [
    "def save_curated(frame):\n",
    "    with open(\"curated.json\", \"w\") as f:\n",
    "        out = frame.to_json(orient=\"records\", lines=True)\n",
    "        f.write(out)"
   ]
  },
  {
   "cell_type": "code",
   "execution_count": 15,
   "metadata": {},
   "outputs": [
    {
     "data": {
      "text/html": [
       "<div>\n",
       "<style scoped>\n",
       "    .dataframe tbody tr th:only-of-type {\n",
       "        vertical-align: middle;\n",
       "    }\n",
       "\n",
       "    .dataframe tbody tr th {\n",
       "        vertical-align: top;\n",
       "    }\n",
       "\n",
       "    .dataframe thead th {\n",
       "        text-align: right;\n",
       "    }\n",
       "</style>\n",
       "<table border=\"1\" class=\"dataframe\">\n",
       "  <thead>\n",
       "    <tr style=\"text-align: right;\">\n",
       "      <th></th>\n",
       "      <th>imdbRating</th>\n",
       "      <th>Internet Movie Database</th>\n",
       "      <th>Rotten Tomatoes</th>\n",
       "      <th>Metacritic</th>\n",
       "    </tr>\n",
       "  </thead>\n",
       "  <tbody>\n",
       "    <tr>\n",
       "      <th>count</th>\n",
       "      <td>346.000000</td>\n",
       "      <td>346.000000</td>\n",
       "      <td>15.000000</td>\n",
       "      <td>8.000000</td>\n",
       "    </tr>\n",
       "    <tr>\n",
       "      <th>mean</th>\n",
       "      <td>6.644798</td>\n",
       "      <td>6.644798</td>\n",
       "      <td>55.133333</td>\n",
       "      <td>59.000000</td>\n",
       "    </tr>\n",
       "    <tr>\n",
       "      <th>std</th>\n",
       "      <td>1.406626</td>\n",
       "      <td>1.406626</td>\n",
       "      <td>29.369242</td>\n",
       "      <td>18.165902</td>\n",
       "    </tr>\n",
       "    <tr>\n",
       "      <th>min</th>\n",
       "      <td>2.000000</td>\n",
       "      <td>2.000000</td>\n",
       "      <td>17.000000</td>\n",
       "      <td>42.000000</td>\n",
       "    </tr>\n",
       "    <tr>\n",
       "      <th>25%</th>\n",
       "      <td>5.900000</td>\n",
       "      <td>5.900000</td>\n",
       "      <td>26.000000</td>\n",
       "      <td>45.000000</td>\n",
       "    </tr>\n",
       "    <tr>\n",
       "      <th>50%</th>\n",
       "      <td>6.800000</td>\n",
       "      <td>6.800000</td>\n",
       "      <td>57.000000</td>\n",
       "      <td>52.500000</td>\n",
       "    </tr>\n",
       "    <tr>\n",
       "      <th>75%</th>\n",
       "      <td>7.600000</td>\n",
       "      <td>7.600000</td>\n",
       "      <td>79.000000</td>\n",
       "      <td>71.250000</td>\n",
       "    </tr>\n",
       "    <tr>\n",
       "      <th>max</th>\n",
       "      <td>10.000000</td>\n",
       "      <td>10.000000</td>\n",
       "      <td>95.000000</td>\n",
       "      <td>86.000000</td>\n",
       "    </tr>\n",
       "  </tbody>\n",
       "</table>\n",
       "</div>"
      ],
      "text/plain": [
       "       imdbRating  Internet Movie Database  Rotten Tomatoes  Metacritic\n",
       "count  346.000000               346.000000        15.000000    8.000000\n",
       "mean     6.644798                 6.644798        55.133333   59.000000\n",
       "std      1.406626                 1.406626        29.369242   18.165902\n",
       "min      2.000000                 2.000000        17.000000   42.000000\n",
       "25%      5.900000                 5.900000        26.000000   45.000000\n",
       "50%      6.800000                 6.800000        57.000000   52.500000\n",
       "75%      7.600000                 7.600000        79.000000   71.250000\n",
       "max     10.000000                10.000000        95.000000   86.000000"
      ]
     },
     "execution_count": 15,
     "metadata": {},
     "output_type": "execute_result"
    }
   ],
   "source": [
    "df.describe()"
   ]
  },
  {
   "cell_type": "code",
   "execution_count": null,
   "metadata": {},
   "outputs": [],
   "source": []
  }
 ],
 "metadata": {
  "kernelspec": {
   "display_name": "Python 3",
   "language": "python",
   "name": "python3"
  },
  "language_info": {
   "codemirror_mode": {
    "name": "ipython",
    "version": 3
   },
   "file_extension": ".py",
   "mimetype": "text/x-python",
   "name": "python",
   "nbconvert_exporter": "python",
   "pygments_lexer": "ipython3",
   "version": "3.7.4"
  }
 },
 "nbformat": 4,
 "nbformat_minor": 2
}
