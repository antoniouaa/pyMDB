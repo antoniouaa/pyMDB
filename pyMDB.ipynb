{
 "cells": [
  {
   "cell_type": "code",
   "execution_count": 1,
   "metadata": {
    "scrolled": true
   },
   "outputs": [],
   "source": [
    "def retrieve_credentials():\n",
    "    with open(\"API_KEY.txt\") as f:\n",
    "        return {\"API_KEY\" : f.readline().strip().split(\"=\")[-1]}\n",
    "\n",
    "CREDENTIALS = retrieve_credentials()\n",
    "print(CREDENTIALS)"
   ]
  },
  {
   "cell_type": "code",
   "execution_count": 2,
   "metadata": {},
   "outputs": [],
   "source": [
    "import requests\n",
    "import json\n",
    "from random import randint\n",
    "\n",
    "BASE_URL = f\"http://www.omdbapi.com/?apikey={CREDENTIALS['API_KEY']}&\"\n",
    "FILENAME = \"data.json\"\n",
    "\n",
    "def fetch(query):\n",
    "    COMPOSITE_URL = f\"{BASE_URL}{query}\"\n",
    "    with requests.get(COMPOSITE_URL) as r:\n",
    "        if r.status_code < 400:\n",
    "            film_dict = json.loads(r.content)\n",
    "            return film_dict"
   ]
  },
  {
   "cell_type": "code",
   "execution_count": 3,
   "metadata": {},
   "outputs": [],
   "source": [
    "def prune(film):\n",
    "    rel_dict = {}\n",
    "\n",
    "    relevant_fields = [\"Title\", \"Runtime\", \"Genre\", \"Director\", \"Ratings\", \"imdbRating\", \"BoxOffice\"]\n",
    "    scores = [\"imdbRating\", \"Internet Movie Database\", \"Rotten Tomatoes\", \"Metacritic\"]\n",
    "    \n",
    "    if not film:\n",
    "        return None\n",
    "\n",
    "    for key_ in relevant_fields:\n",
    "        if key_ in film.keys():\n",
    "            rel_dict[key_] = film[key_]\n",
    "\n",
    "    try:\n",
    "        rel_dict[\"Genre\"] = rel_dict[\"Genre\"].split(\", \")\n",
    "        rel_dict[\"Director\"] = rel_dict[\"Director\"].split(\", \")\n",
    "    except:\n",
    "        pass\n",
    "    \n",
    "    sources = {}\n",
    "    try:\n",
    "        sources = {d[\"Source\"] : d[\"Value\"] for d in rel_dict[\"Ratings\"]}\n",
    "    except:\n",
    "        pass\n",
    "    \n",
    "    for k, v in sources.items():\n",
    "        rel_dict[k] = v\n",
    "\n",
    "    for score in scores:\n",
    "        split_char = \"/\"\n",
    "        if score == \"Rotten Tomatoes\":\n",
    "            split_char = \"%\"\n",
    "        value = None\n",
    "        try:\n",
    "            value = float(rel_dict[score].split(split_char)[0]) or None\n",
    "        except:\n",
    "            pass\n",
    "        finally:\n",
    "            rel_dict[score] = value\n",
    "            value = None\n",
    "        \n",
    "    rel_dict.pop(\"Ratings\", None)\n",
    "    return rel_dict"
   ]
  },
  {
   "cell_type": "code",
   "execution_count": 4,
   "metadata": {},
   "outputs": [],
   "source": [
    "def write_to_file(FILENAME, rel_dict):\n",
    "    json_string = json.dumps(rel_dict, separators=(\",\",\":\"))\n",
    "    with open(FILENAME, \"a\") as infile:\n",
    "        infile.write(json_string+\"\\n\")"
   ]
  },
  {
   "cell_type": "code",
   "execution_count": 5,
   "metadata": {},
   "outputs": [],
   "source": [
    "def batch_fetch():\n",
    "    for i in range(100):\n",
    "        id_ = f\"{randint(1, 1877830)}\"\n",
    "        film = fetch(f\"i=tt{str(id_).zfill(7)}\")\n",
    "        if film:\n",
    "            rel_film = prune(film)\n",
    "            write_to_file(FILENAME, rel_film)"
   ]
  },
  {
   "cell_type": "code",
   "execution_count": 6,
   "metadata": {},
   "outputs": [],
   "source": [
    "def save_curated(frame):\n",
    "    with open(\"curated.json\", \"w\") as f:\n",
    "        out = frame.to_json(orient=\"records\", lines=True)\n",
    "        f.write(out)"
   ]
  },
  {
   "cell_type": "code",
   "execution_count": 7,
   "metadata": {
    "scrolled": true
   },
   "outputs": [],
   "source": [
    "#for i in range(5):\n",
    "#    batch_fetch()\n",
    "#    print(f\"{(i+1)*100} links fetched!\")\n",
    "#print(\"Batch Job Done!\")"
   ]
  },
  {
   "cell_type": "code",
   "execution_count": 8,
   "metadata": {},
   "outputs": [],
   "source": [
    "#import pandas as pd\n",
    "#df = pd.read_json(\"data.json\", lines=True)\n",
    "\n",
    "#df.dropna(subset=[\"Title\"], inplace=True)\n",
    "#df.dropna(subset=['imdbRating', 'Internet Movie Database', 'Rotten Tomatoes', 'Metacritic'], how=\"all\", inplace=True)\n",
    "#df.reset_index(drop=True, inplace=True)"
   ]
  },
  {
   "cell_type": "code",
   "execution_count": 9,
   "metadata": {},
   "outputs": [],
   "source": [
    "#print(f\"STDDEV = {df['imdbRating'].std()}\\nMEAN = {df['imdbRating'].mean()}\")"
   ]
  },
  {
   "cell_type": "code",
   "execution_count": 10,
   "metadata": {},
   "outputs": [],
   "source": [
    "#df.describe()"
   ]
  },
  {
   "cell_type": "code",
   "execution_count": 14,
   "metadata": {},
   "outputs": [
    {
     "name": "stdout",
     "output_type": "stream",
     "text": [
      "<div class=\"lister-item-content\">\n",
      "<h3 class=\"lister-item-header\">\n",
      "<span class=\"lister-item-index unbold text-primary\">1.</span>\n",
      "<a href=\"/title/tt0111161/\">The Shawshank Redemption</a>\n",
      "<span class=\"lister-item-year text-muted unbold\">(1994)</span>\n",
      "</h3>\n",
      "<p class=\"text-muted\">\n",
      "<span class=\"certificate\">15</span>\n",
      "<span class=\"ghost\">|</span>\n",
      "<span class=\"runtime\">142 min</span>\n",
      "<span class=\"ghost\">|</span>\n",
      "<span class=\"genre\">\n",
      "Drama            </span>\n",
      "</p>\n",
      "<div class=\"ratings-bar\">\n",
      "<div class=\"inline-block ratings-imdb-rating\" data-value=\"9.3\" name=\"ir\">\n",
      "<span class=\"global-sprite rating-star imdb-rating\"></span>\n",
      "<strong>9.3</strong>\n",
      "</div>\n",
      "<div class=\"inline-block ratings-user-rating\">\n",
      "<span class=\"userRatingValue\" data-tconst=\"tt0111161\" id=\"urv_tt0111161\">\n",
      "<span class=\"global-sprite rating-star no-rating\"></span>\n",
      "<span class=\"rate\" data-no-rating=\"Rate this\" data-value=\"0\" name=\"ur\">Rate this</span>\n",
      "</span>\n",
      "<div class=\"starBarWidget\" id=\"sb_tt0111161\">\n",
      "<div class=\"rating rating-list\" data-auth=\"\" data-ga-identifier=\"\" data-starbar-class=\"rating-list\" data-user=\"\" id=\"tt0111161|imdb|9.3|9.3|adv_li_tt||advsearch|title\" itemprop=\"aggregateRating\" itemscope=\"\" itemtype=\"http://schema.org/AggregateRating\" title=\"Users rated this 9.3/10 (2,235,881 votes) - click stars to rate\">\n",
      "<meta content=\"9.3\" itemprop=\"ratingValue\"/>\n",
      "<meta content=\"10\" itemprop=\"bestRating\"/>\n",
      "<meta content=\"2235881\" itemprop=\"ratingCount\"/>\n",
      "<span class=\"rating-bg\"> </span>\n",
      "<span class=\"rating-imdb\" style=\"width: 130.2px\"> </span>\n",
      "<span class=\"rating-stars\">\n",
      "<a href=\"/register/login?why=vote\" rel=\"nofollow\" title=\"Register or login to rate this title\"><span>1</span></a>\n",
      "<a href=\"/register/login?why=vote\" rel=\"nofollow\" title=\"Register or login to rate this title\"><span>2</span></a>\n",
      "<a href=\"/register/login?why=vote\" rel=\"nofollow\" title=\"Register or login to rate this title\"><span>3</span></a>\n",
      "<a href=\"/register/login?why=vote\" rel=\"nofollow\" title=\"Register or login to rate this title\"><span>4</span></a>\n",
      "<a href=\"/register/login?why=vote\" rel=\"nofollow\" title=\"Register or login to rate this title\"><span>5</span></a>\n",
      "<a href=\"/register/login?why=vote\" rel=\"nofollow\" title=\"Register or login to rate this title\"><span>6</span></a>\n",
      "<a href=\"/register/login?why=vote\" rel=\"nofollow\" title=\"Register or login to rate this title\"><span>7</span></a>\n",
      "<a href=\"/register/login?why=vote\" rel=\"nofollow\" title=\"Register or login to rate this title\"><span>8</span></a>\n",
      "<a href=\"/register/login?why=vote\" rel=\"nofollow\" title=\"Register or login to rate this title\"><span>9</span></a>\n",
      "<a href=\"/register/login?why=vote\" rel=\"nofollow\" title=\"Register or login to rate this title\"><span>10</span></a>\n",
      "</span>\n",
      "<span class=\"rating-rating\"><span class=\"value\">9.3</span><span class=\"grey\">/</span><span class=\"grey\">10</span></span>\n",
      "<span class=\"rating-cancel\"><a href=\"/title/tt0111161/vote?v=X;k=\" rel=\"nofollow\" title=\"Delete\"><span>X</span></a></span>\n",
      " </div>\n",
      "</div>\n",
      "</div>\n",
      "<div class=\"inline-block ratings-metascore\">\n",
      "<span class=\"metascore favorable\">80        </span>\n",
      "        Metascore\n",
      "            </div>\n",
      "</div>\n",
      "<p class=\"text-muted\">\n",
      "    Two imprisoned men bond over a number of years, finding solace and eventual redemption through acts of common decency.</p>\n",
      "<p class=\"\">\n",
      "    Director:\n",
      "<a href=\"/name/nm0001104/\">Frank Darabont</a>\n",
      "<span class=\"ghost\">|</span> \n",
      "    Stars:\n",
      "<a href=\"/name/nm0000209/\">Tim Robbins</a>, \n",
      "<a href=\"/name/nm0000151/\">Morgan Freeman</a>, \n",
      "<a href=\"/name/nm0348409/\">Bob Gunton</a>, \n",
      "<a href=\"/name/nm0006669/\">William Sadler</a>\n",
      "</p>\n",
      "<p class=\"sort-num_votes-visible\">\n",
      "<span class=\"text-muted\">Votes:</span>\n",
      "<span data-value=\"2235881\" name=\"nv\">2,235,881</span>\n",
      "<span class=\"ghost\">|</span> <span class=\"text-muted\">Gross:</span>\n",
      "<span data-value=\"28,341,469\" name=\"nv\">$28.34M</span>\n",
      "</p>\n",
      "</div>\n"
     ]
    }
   ],
   "source": [
    "from bs4 import BeautifulSoup\n",
    "\n",
    "top250 = \"https://www.imdb.com/search/title/?groups=top_250&sort=user_rating\"\n",
    "\n",
    "def fetch_(query):\n",
    "    with requests.get(top250) as r:\n",
    "        if r.status_code < 400:\n",
    "            soup = BeautifulSoup(r.content, \"lxml\")\n",
    "            try:\n",
    "                item_pane = soup.find(\"div\", class_=\"lister-item-content\")\n",
    "                print(item_pane)\n",
    "            except:\n",
    "                print(\"bad\")\n",
    "            \n",
    "fetch_(\"i=tt0111161\")"
   ]
  },
  {
   "cell_type": "code",
   "execution_count": null,
   "metadata": {},
   "outputs": [],
   "source": []
  }
 ],
 "metadata": {
  "kernelspec": {
   "display_name": "Python 3",
   "language": "python",
   "name": "python3"
  },
  "language_info": {
   "codemirror_mode": {
    "name": "ipython",
    "version": 3
   },
   "file_extension": ".py",
   "mimetype": "text/x-python",
   "name": "python",
   "nbconvert_exporter": "python",
   "pygments_lexer": "ipython3",
   "version": "3.7.6"
  }
 },
 "nbformat": 4,
 "nbformat_minor": 2
}
