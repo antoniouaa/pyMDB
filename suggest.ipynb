{
 "cells": [
  {
   "cell_type": "code",
   "execution_count": 27,
   "metadata": {},
   "outputs": [
    {
     "data": {
      "text/plain": [
       "50"
      ]
     },
     "execution_count": 27,
     "metadata": {},
     "output_type": "execute_result"
    }
   ],
   "source": [
    "from bs4 import BeautifulSoup\n",
    "import requests\n",
    "\n",
    "top250 = \"https://www.imdb.com/search/title/?groups=top_250&sort=user_rating\"\n",
    "top250_2 = \"https://www.imdb.com/search/title/?groups=top_250&sort=user_rating,desc&start=51&ref_=adv_nxt\"\n",
    "\n",
    "def fetch_(query):\n",
    "    with requests.get(top250) as r:\n",
    "        if r.status_code < 400:\n",
    "            soup = BeautifulSoup(r.content, \"lxml\")\n",
    "            try:\n",
    "                item_pane = soup.find_all(\"div\", class_=\"lister-item-content\")\n",
    "                title = []\n",
    "                for item in item_pane:\n",
    "                    title.extend(item.find(\"a\"))\n",
    "                return title\n",
    "            except e:\n",
    "                print(\"BAD ELEMENT IN SOUP\")"
   ]
  },
  {
   "cell_type": "code",
   "execution_count": 37,
   "metadata": {},
   "outputs": [
    {
     "name": "stdout",
     "output_type": "stream",
     "text": [
      "['Terminator 2: Judgment Day']\n"
     ]
    }
   ],
   "source": [
    "titles = fetch_(\"i=tt0111161\")\n",
    "\n",
    "from random import sample\n",
    "\n",
    "print(sample(titles, k=1))"
   ]
  },
  {
   "cell_type": "code",
   "execution_count": null,
   "metadata": {},
   "outputs": [],
   "source": []
  }
 ],
 "metadata": {
  "kernelspec": {
   "display_name": "Python 3",
   "language": "python",
   "name": "python3"
  },
  "language_info": {
   "codemirror_mode": {
    "name": "ipython",
    "version": 3
   },
   "file_extension": ".py",
   "mimetype": "text/x-python",
   "name": "python",
   "nbconvert_exporter": "python",
   "pygments_lexer": "ipython3",
   "version": "3.7.6"
  }
 },
 "nbformat": 4,
 "nbformat_minor": 4
}
